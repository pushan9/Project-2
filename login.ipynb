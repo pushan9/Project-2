{
 "cells": [
  {
   "cell_type": "code",
   "execution_count": 2,
   "id": "d88d5ef6-145c-4458-9f98-de2fb8c85954",
   "metadata": {},
   "outputs": [
    {
     "name": "stdout",
     "output_type": "stream",
     "text": [
      "Welcome to Task + Expense Manager\n",
      "1. Register\n",
      "2. Login\n",
      "3. Exit\n"
     ]
    },
    {
     "name": "stdin",
     "output_type": "stream",
     "text": [
      "Choose an option:  1\n",
      "Choose a username:  pushan9\n",
      "Choose a password:  Welcome\n"
     ]
    },
    {
     "name": "stdout",
     "output_type": "stream",
     "text": [
      "Registration successful!\n",
      "\n",
      "\n",
      "--- Task Menu ---\n",
      "1. Add Task\n",
      "2. View Tasks\n",
      "3. Complete Task\n",
      "4. Delete Task\n",
      "5. Go to Expense Tracker\n",
      "6. Logout\n"
     ]
    },
    {
     "name": "stdin",
     "output_type": "stream",
     "text": [
      "Choose an option:  1\n",
      "Task description:  expense\n"
     ]
    },
    {
     "name": "stdout",
     "output_type": "stream",
     "text": [
      "Task added.\n",
      "\n",
      "\n",
      "--- Task Menu ---\n",
      "1. Add Task\n",
      "2. View Tasks\n",
      "3. Complete Task\n",
      "4. Delete Task\n",
      "5. Go to Expense Tracker\n",
      "6. Logout\n"
     ]
    },
    {
     "name": "stdin",
     "output_type": "stream",
     "text": [
      "Choose an option:  \n"
     ]
    },
    {
     "name": "stdout",
     "output_type": "stream",
     "text": [
      "Invalid option.\n",
      "\n",
      "\n",
      "--- Task Menu ---\n",
      "1. Add Task\n",
      "2. View Tasks\n",
      "3. Complete Task\n",
      "4. Delete Task\n",
      "5. Go to Expense Tracker\n",
      "6. Logout\n"
     ]
    },
    {
     "name": "stdin",
     "output_type": "stream",
     "text": [
      "Choose an option:  5\n"
     ]
    },
    {
     "name": "stdout",
     "output_type": "stream",
     "text": [
      "\n",
      "--- Expense Menu ---\n",
      "1. Add Expense\n",
      "2. View Expenses\n",
      "3. Track Budget\n",
      "4. Return to Task Menu\n"
     ]
    },
    {
     "name": "stdin",
     "output_type": "stream",
     "text": [
      "Choose an option:  3\n",
      "Set your monthly budget: ₹ 500000\n"
     ]
    },
    {
     "name": "stdout",
     "output_type": "stream",
     "text": [
      "Total Spent: ₹0\n",
      "Remaining: ₹500000.00\n",
      "You're within budget.\n",
      "\n",
      "\n",
      "--- Expense Menu ---\n",
      "1. Add Expense\n",
      "2. View Expenses\n",
      "3. Track Budget\n",
      "4. Return to Task Menu\n"
     ]
    },
    {
     "name": "stdin",
     "output_type": "stream",
     "text": [
      "Choose an option:  1\n",
      "Date (YYYY-MM-DD):  2025-07-03\n",
      "Category:  Travel\n",
      "Amount: ₹ 100000\n",
      "Description:  Flight\n"
     ]
    },
    {
     "name": "stdout",
     "output_type": "stream",
     "text": [
      "Expense recorded.\n",
      "\n",
      "\n",
      "--- Expense Menu ---\n",
      "1. Add Expense\n",
      "2. View Expenses\n",
      "3. Track Budget\n",
      "4. Return to Task Menu\n"
     ]
    },
    {
     "name": "stdin",
     "output_type": "stream",
     "text": [
      "Choose an option:  4\n"
     ]
    },
    {
     "name": "stdout",
     "output_type": "stream",
     "text": [
      "\n",
      "--- Task Menu ---\n",
      "1. Add Task\n",
      "2. View Tasks\n",
      "3. Complete Task\n",
      "4. Delete Task\n",
      "5. Go to Expense Tracker\n",
      "6. Logout\n"
     ]
    },
    {
     "name": "stdin",
     "output_type": "stream",
     "text": [
      "Choose an option:  6\n"
     ]
    },
    {
     "name": "stdout",
     "output_type": "stream",
     "text": [
      "1. Register\n",
      "2. Login\n",
      "3. Exit\n"
     ]
    },
    {
     "name": "stdin",
     "output_type": "stream",
     "text": [
      "Choose an option:  3\n"
     ]
    },
    {
     "name": "stdout",
     "output_type": "stream",
     "text": [
      "Goodbye!\n"
     ]
    }
   ],
   "source": [
    "import csv\n",
    "import hashlib\n",
    "import os\n",
    "\n",
    "# === Authentication ===\n",
    "\n",
    "def hash_password(password):\n",
    "    return hashlib.sha256(password.encode()).hexdigest()\n",
    "\n",
    "def register():\n",
    "    username = input(\"Choose a username: \")\n",
    "    if os.path.exists('users.csv'):\n",
    "        with open('users.csv', 'r') as f:\n",
    "            for row in csv.reader(f):\n",
    "                if row[0] == username:\n",
    "                    print(\"Username already exists!\\n\")\n",
    "                    return None\n",
    "    password = input(\"Choose a password: \")\n",
    "    with open('users.csv', 'a', newline='') as f:\n",
    "        writer = csv.writer(f)\n",
    "        writer.writerow([username, hash_password(password)])\n",
    "    print(\"Registration successful!\\n\")\n",
    "    return username\n",
    "\n",
    "def login():\n",
    "    username = input(\"Username: \")\n",
    "    password = input(\"Password: \")\n",
    "    with open('users.csv', 'r') as f:\n",
    "        for row in csv.reader(f):\n",
    "            if row[0] == username and row[1] == hash_password(password):\n",
    "                print(\"Login successful!\\n\")\n",
    "                return username\n",
    "    print(\"Invalid credentials.\\n\")\n",
    "    return None\n",
    "\n",
    "# === Task Manager ===\n",
    "\n",
    "def task_file(username):\n",
    "    return f\"tasks_{username}.csv\"\n",
    "\n",
    "def add_task(username):\n",
    "    task = input(\"Task description: \")\n",
    "    with open(task_file(username), 'a', newline='') as f:\n",
    "        writer = csv.writer(f)\n",
    "        task_id = sum(1 for _ in open(task_file(username))) + 1\n",
    "        writer.writerow([task_id, task, \"Pending\"])\n",
    "    print(\"Task added.\\n\")\n",
    "\n",
    "def view_tasks(username):\n",
    "    if not os.path.exists(task_file(username)):\n",
    "        print(\"No tasks found.\\n\")\n",
    "        return\n",
    "    with open(task_file(username), 'r') as f:\n",
    "        for row in csv.reader(f):\n",
    "            print(f\"ID: {row[0]} | {row[1]} | Status: {row[2]}\")\n",
    "    print()\n",
    "\n",
    "def complete_task(username):\n",
    "    tasks = []\n",
    "    task_found = False\n",
    "    task_id = input(\"Enter task ID to mark as completed: \")\n",
    "    with open(task_file(username), 'r') as f:\n",
    "        for row in csv.reader(f):\n",
    "            if row[0] == task_id:\n",
    "                row[2] = \"Completed\"\n",
    "                task_found = True\n",
    "            tasks.append(row)\n",
    "    with open(task_file(username), 'w', newline='') as f:\n",
    "        csv.writer(f).writerows(tasks)\n",
    "    print(\"Task updated.\\n\" if task_found else \"Task not found.\\n\")\n",
    "\n",
    "def delete_task(username):\n",
    "    tasks = []\n",
    "    deleted = False\n",
    "    task_id = input(\"Enter task ID to delete: \")\n",
    "    with open(task_file(username), 'r') as f:\n",
    "        for row in csv.reader(f):\n",
    "            if row[0] != task_id:\n",
    "                tasks.append(row)\n",
    "            else:\n",
    "                deleted = True\n",
    "    with open(task_file(username), 'w', newline='') as f:\n",
    "        csv.writer(f).writerows(tasks)\n",
    "    print(\"Task deleted.\\n\" if deleted else \"Task not found.\\n\")\n",
    "\n",
    "# === Expense Tracker ===\n",
    "\n",
    "def expense_file(username):\n",
    "    return f\"expenses_{username}.csv\"\n",
    "\n",
    "def add_expense(username):\n",
    "    date = input(\"Date (YYYY-MM-DD): \")\n",
    "    category = input(\"Category: \")\n",
    "    try:\n",
    "        amount = float(input(\"Amount: ₹\"))\n",
    "    except ValueError:\n",
    "        print(\"Invalid amount.\\n\")\n",
    "        return\n",
    "    desc = input(\"Description: \")\n",
    "    with open(expense_file(username), 'a', newline='') as f:\n",
    "        csv.writer(f).writerow([date, category, amount, desc])\n",
    "    print(\"Expense recorded.\\n\")\n",
    "\n",
    "def view_expenses(username):\n",
    "    if not os.path.exists(expense_file(username)):\n",
    "        print(\"No expenses found.\\n\")\n",
    "        return\n",
    "    with open(expense_file(username), 'r') as f:\n",
    "        for row in csv.reader(f):\n",
    "            print(f\"{row[0]} | {row[1]} | ₹{row[2]} | {row[3]}\")\n",
    "    print()\n",
    "\n",
    "def track_budget(username):\n",
    "    try:\n",
    "        budget = float(input(\"Set your monthly budget: ₹\"))\n",
    "    except ValueError:\n",
    "        print(\"Invalid number.\\n\")\n",
    "        return\n",
    "    total = 0\n",
    "    if os.path.exists(expense_file(username)):\n",
    "        with open(expense_file(username), 'r') as f:\n",
    "            for row in csv.reader(f):\n",
    "                try:\n",
    "                    total += float(row[2])\n",
    "                except:\n",
    "                    continue\n",
    "    print(f\"Total Spent: ₹{total}\")\n",
    "    print(f\"Remaining: ₹{budget - total:.2f}\")\n",
    "    if total > budget:\n",
    "        print(\"⚠️ Budget Exceeded!\\n\")\n",
    "    else:\n",
    "        print(\"You're within budget.\\n\")\n",
    "\n",
    "# === Main Menu ===\n",
    "\n",
    "def task_menu(username):\n",
    "    while True:\n",
    "        print(\"\\n--- Task Menu ---\")\n",
    "        print(\"1. Add Task\")\n",
    "        print(\"2. View Tasks\")\n",
    "        print(\"3. Complete Task\")\n",
    "        print(\"4. Delete Task\")\n",
    "        print(\"5. Go to Expense Tracker\")\n",
    "        print(\"6. Logout\")\n",
    "        choice = input(\"Choose an option: \")\n",
    "\n",
    "        if choice == '1':\n",
    "            add_task(username)\n",
    "        elif choice == '2':\n",
    "            view_tasks(username)\n",
    "        elif choice == '3':\n",
    "            complete_task(username)\n",
    "        elif choice == '4':\n",
    "            delete_task(username)\n",
    "        elif choice == '5':\n",
    "            expense_menu(username)\n",
    "        elif choice == '6':\n",
    "            break\n",
    "        else:\n",
    "            print(\"Invalid option.\\n\")\n",
    "\n",
    "def expense_menu(username):\n",
    "    while True:\n",
    "        print(\"\\n--- Expense Menu ---\")\n",
    "        print(\"1. Add Expense\")\n",
    "        print(\"2. View Expenses\")\n",
    "        print(\"3. Track Budget\")\n",
    "        print(\"4. Return to Task Menu\")\n",
    "        choice = input(\"Choose an option: \")\n",
    "\n",
    "        if choice == '1':\n",
    "            add_expense(username)\n",
    "        elif choice == '2':\n",
    "            view_expenses(username)\n",
    "        elif choice == '3':\n",
    "            track_budget(username)\n",
    "        elif choice == '4':\n",
    "            break\n",
    "        else:\n",
    "            print(\"Invalid option.\\n\")\n",
    "\n",
    "def main():\n",
    "    print(\"Welcome to Task + Expense Manager\")\n",
    "    while True:\n",
    "        print(\"1. Register\")\n",
    "        print(\"2. Login\")\n",
    "        print(\"3. Exit\")\n",
    "        option = input(\"Choose an option: \")\n",
    "\n",
    "        if option == '1':\n",
    "            user = register()\n",
    "            if user:\n",
    "                task_menu(user)\n",
    "        elif option == '2':\n",
    "            user = login()\n",
    "            if user:\n",
    "                task_menu(user)\n",
    "        elif option == '3':\n",
    "            print(\"Goodbye!\")\n",
    "            break\n",
    "        else:\n",
    "            print(\"Invalid input.\\n\")\n",
    "\n",
    "main()"
   ]
  },
  {
   "cell_type": "code",
   "execution_count": null,
   "id": "7dcefe7e-0196-42e8-ade4-103571d1c5d0",
   "metadata": {},
   "outputs": [],
   "source": []
  }
 ],
 "metadata": {
  "kernelspec": {
   "display_name": "Python [conda env:base] *",
   "language": "python",
   "name": "conda-base-py"
  },
  "language_info": {
   "codemirror_mode": {
    "name": "ipython",
    "version": 3
   },
   "file_extension": ".py",
   "mimetype": "text/x-python",
   "name": "python",
   "nbconvert_exporter": "python",
   "pygments_lexer": "ipython3",
   "version": "3.13.5"
  }
 },
 "nbformat": 4,
 "nbformat_minor": 5
}
